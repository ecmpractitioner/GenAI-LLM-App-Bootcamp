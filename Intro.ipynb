{
 "cells": [
  {
   "cell_type": "code",
   "execution_count": 11,
   "id": "1455ba12",
   "metadata": {},
   "outputs": [],
   "source": [
    "import os\n",
    "from dotenv import load_dotenv"
   ]
  },
  {
   "cell_type": "code",
   "execution_count": 13,
   "id": "2da45f09",
   "metadata": {},
   "outputs": [
    {
     "name": "stdout",
     "output_type": "stream",
     "text": [
      "sk-proj-265xAoG6jxORFLH8GODmT3BlbkFJjK1W0z8nj6QVLHUuNlVU\n"
     ]
    }
   ],
   "source": [
    "load_dotenv('dev.env')\n",
    "openai_api_key = os.getenv(\"OPENAI_API_KEY\")\n",
    "print(openai_api_key)"
   ]
  },
  {
   "cell_type": "code",
   "execution_count": 14,
   "id": "73aaf4e6",
   "metadata": {},
   "outputs": [],
   "source": [
    "from langchain.llms import OpenAI"
   ]
  },
  {
   "cell_type": "code",
   "execution_count": 15,
   "id": "163b0d33",
   "metadata": {},
   "outputs": [],
   "source": [
    "my_first_llm = OpenAI(temperature=0.9)"
   ]
  },
  {
   "cell_type": "code",
   "execution_count": 18,
   "id": "2d86236a",
   "metadata": {},
   "outputs": [],
   "source": [
    "question = \"What are the 5 best things to do in life\""
   ]
  },
  {
   "cell_type": "code",
   "execution_count": 19,
   "id": "eff6dabe",
   "metadata": {},
   "outputs": [
    {
     "name": "stdout",
     "output_type": "stream",
     "text": [
      "\n",
      "\n",
      "1. Travel and Experience Different Cultures\n",
      "Traveling and immersing yourself in different cultures can broaden your perspective and help you grow as a person. It can also be a lot of fun and create lasting memories.\n",
      "\n",
      "2. Pursue Your Passion\n",
      "Whether it's a hobby, career, or personal project, pursuing your passion can bring a deep sense of fulfillment and purpose to your life. It can also help you develop new skills and talents.\n",
      "\n",
      "3. Build Meaningful Relationships\n",
      "Relationships are an important aspect of life and investing time and effort into building strong, supportive connections with family, friends, and loved ones can bring immense joy and happiness.\n",
      "\n",
      "4. Help Others and Make a Positive Impact\n",
      "Helping others and making a positive impact in your community or in the world can bring a sense of fulfillment and purpose. Whether it's through volunteering, donating, or simply being kind to others, small acts of kindness can make a big difference.\n",
      "\n",
      "5. Focus on Personal Growth and Self-Care\n",
      "Taking care of yourself and prioritizing personal growth can lead to a happier and more fulfilling life. This can include practices such as exercising, practicing mindfulness, and setting and achieving personal goals.\n"
     ]
    }
   ],
   "source": [
    "print(my_first_llm(question))"
   ]
  },
  {
   "cell_type": "markdown",
   "id": "6cccb341",
   "metadata": {},
   "source": [
    "# Use Prompt template to wrap the user prompt"
   ]
  },
  {
   "cell_type": "code",
   "execution_count": 5,
   "id": "6bb24f62",
   "metadata": {},
   "outputs": [],
   "source": [
    "# first create a prompt template from langchain\n",
    "\n",
    "from langchain.prompts import PromptTemplate\n",
    "\n",
    "# next create an instance of this prompttemplate\n",
    "\n",
    "my_prompt_template = PromptTemplate(\n",
    "    input_variables=[\"destination\"],\n",
    "    template=\"What are the 3 best things to do in {destination}\"\n",
    ")"
   ]
  },
  {
   "cell_type": "code",
   "execution_count": 24,
   "id": "6694159e",
   "metadata": {},
   "outputs": [],
   "source": [
    "# now create a user_input to replace the value for 'destination'\n",
    "user_input = 'Karpur, Anekal'"
   ]
  },
  {
   "cell_type": "code",
   "execution_count": 25,
   "id": "4f99e6fe",
   "metadata": {},
   "outputs": [
    {
     "name": "stdout",
     "output_type": "stream",
     "text": [
      "\n",
      "\n",
      "1. Visit Karpur Lake: Karpur Lake is a beautiful and tranquil lake surrounded by lush greenery and hills. It is a popular spot for picnics and offers boating facilities.\n",
      "\n",
      "2. Trek to Kappathgudda: Kappathgudda is a beautiful hill with a small temple on the top. The trek to the top is a scenic and challenging one, offering breathtaking views of the surrounding areas.\n",
      "\n",
      "3. Explore the Anekal Caves: Anekal Caves are ancient rock-cut cave temples that date back to the 6th and 7th centuries. These caves are known for their beautiful carvings, sculptures, and architecture, making it a must-visit for history and architecture enthusiasts.\n"
     ]
    }
   ],
   "source": [
    "# now we have the prompttemplate with prompt, let's send it to OpenAI LLM\n",
    "\n",
    "print(my_first_llm(my_prompt_template.format(destination=user_input)))"
   ]
  },
  {
   "cell_type": "markdown",
   "id": "07175d01",
   "metadata": {},
   "source": [
    "# Use of LangChain to agument user prompt"
   ]
  },
  {
   "cell_type": "code",
   "execution_count": 17,
   "id": "0628f7e6",
   "metadata": {},
   "outputs": [
    {
     "name": "stdout",
     "output_type": "stream",
     "text": [
      "\n",
      "\n",
      "1. Iconic performances in over 200 films: Dr. Rajkumar is one of the most iconic actors in the history of Indian cinema, having acted in over 200 films in a career spanning five decades. He is known for his versatility and has essayed a wide range of characters including mythological, historical, and contemporary roles. His performances were often praised for their emotional depth and natural acting.\n",
      "\n",
      "2. Padma Bhushan and Dadasaheb Phalke Award: Dr. Rajkumar was honored with the Padma Bhushan, India's third-highest civilian award, in 1983 for his contributions to cinema. In 1995, he was also awarded the Dadasaheb Phalke Award, the highest honor in Indian cinema, for his outstanding contribution to Indian cinema. He remains the only actor to have received both these prestigious awards.\n",
      "\n",
      "3. Social and Cultural Influence: Dr. Rajkumar was not only a celebrated actor but also a cultural and social icon in Karnataka. His films often had a strong social message and he used his popularity to spread awareness on various issues such as education, patriotism, and social harmony. He was also highly respected for his contributions to Kannada literature, music, and folk\n"
     ]
    }
   ],
   "source": [
    "from langchain.chains import LLMChain\n",
    "#in real, this is where we can connect to other data source to get additional detail for the prompt\n",
    "\n",
    "my_chain_prompt_template= PromptTemplate(\n",
    "    input_variables=[\"actor\"],\n",
    "    template=\"What are the three remarkable achoevements of actor {actor}\"\n",
    ")\n",
    "\n",
    "#next create a chain\n",
    "my_chain = LLMChain(llm=my_first_llm, prompt=my_chain_prompt_template)\n",
    "print(my_chain.run(\"Dr. Raj Kumar\"))"
   ]
  },
  {
   "cell_type": "markdown",
   "id": "9202a407",
   "metadata": {},
   "source": [
    "# LLM agents\n",
    "\n",
    "LLM agents are advanced AI systems designed for creating complex text that needs sequential reasoning. They can think ahead, remember past conversations, and use different tools to adjust their responses based on the situation and style needed."
   ]
  },
  {
   "cell_type": "markdown",
   "id": "9fc9b0b8",
   "metadata": {},
   "source": [
    "## Agents give reasoning power to LLMs\n",
    "\n",
    "### Load some external tools such as google search, llm-math etc"
   ]
  },
  {
   "cell_type": "markdown",
   "id": "0503e028",
   "metadata": {},
   "source": [
    "### How to create an agent?\n",
    "#### 1. Initialize an agent type on top of the LLM\n",
    "#### 2. Run the agent and it will decide the tools to use based on your input\n",
    "\n",
    "#### Note: running LLM agents can cost more!!!!!"
   ]
  },
  {
   "cell_type": "code",
   "execution_count": 20,
   "id": "8b07e922",
   "metadata": {},
   "outputs": [],
   "source": [
    "#code to create LLM agent\n",
    "\n",
    "#from langchain.agents import load_tools\n",
    "#from langchain.agents import initialize_agent\n",
    "\n",
    "#create the tool\n",
    "#tools = load_tools([\"serpapi\",\"llm-math\"],llm=my_first_llm)\n",
    "#agent = initialize_agent(tools,llm,agent='zero-shot-react-description',, verbose=True)\n",
    "#agent.run(\"Who is the current leader of Japan? What is the largest prime number that is smaller than their age?\")"
   ]
  },
  {
   "cell_type": "markdown",
   "id": "de7dc9e9",
   "metadata": {},
   "source": [
    "## Adding memory to the LLM"
   ]
  },
  {
   "cell_type": "code",
   "execution_count": 23,
   "id": "ed23f4ec",
   "metadata": {},
   "outputs": [
    {
     "name": "stdout",
     "output_type": "stream",
     "text": [
      "\n",
      "\n",
      "\u001b[1m> Entering new ConversationChain chain...\u001b[0m\n",
      "Prompt after formatting:\n",
      "\u001b[32;1m\u001b[1;3mThe following is a friendly conversation between a human and an AI. The AI is talkative and provides lots of specific details from its context. If the AI does not know the answer to a question, it truthfully says it does not know.\n",
      "\n",
      "Current conversation:\n",
      "\n",
      "Human: Hi there...\n",
      "AI:\u001b[0m\n",
      "\n",
      "\u001b[1m> Finished chain.\u001b[0m\n"
     ]
    },
    {
     "data": {
      "text/plain": [
       "{'input': 'Hi there...',\n",
       " 'history': '',\n",
       " 'response': \" Hello! It's nice to meet you. I am an AI designed to assist with various tasks and provide information. How can I help you today?\"}"
      ]
     },
     "execution_count": 23,
     "metadata": {},
     "output_type": "execute_result"
    }
   ],
   "source": [
    "# first import the conversation chain\n",
    "from langchain import ConversationChain\n",
    "\n",
    "#create a llm instance. We can reuse the earlier one but let's create a new one\n",
    "my_chain_llm = OpenAI(temperature=0) # here we are making the LLM to not be creative\n",
    "\n",
    "# now create the conversation chain\n",
    "\n",
    "my_conv_chain = ConversationChain(llm=my_chain_llm, verbose=True)\n",
    "# setting verbose=True provides detailed output during execution to help debug\n",
    "\n",
    "my_conv_chain.invoke(\"Hi there...\")\n"
   ]
  },
  {
   "cell_type": "code",
   "execution_count": 24,
   "id": "50c80af4",
   "metadata": {},
   "outputs": [
    {
     "name": "stdout",
     "output_type": "stream",
     "text": [
      "\n",
      "\n",
      "\u001b[1m> Entering new ConversationChain chain...\u001b[0m\n",
      "Prompt after formatting:\n",
      "\u001b[32;1m\u001b[1;3mThe following is a friendly conversation between a human and an AI. The AI is talkative and provides lots of specific details from its context. If the AI does not know the answer to a question, it truthfully says it does not know.\n",
      "\n",
      "Current conversation:\n",
      "Human: Hi there...\n",
      "AI:  Hello! It's nice to meet you. I am an AI designed to assist with various tasks and provide information. How can I help you today?\n",
      "Human: Hello, My name is Manju and what is your name?\n",
      "AI:\u001b[0m\n",
      "\n",
      "\u001b[1m> Finished chain.\u001b[0m\n"
     ]
    },
    {
     "data": {
      "text/plain": [
       "{'input': 'Hello, My name is Manju and what is your name?',\n",
       " 'history': \"Human: Hi there...\\nAI:  Hello! It's nice to meet you. I am an AI designed to assist with various tasks and provide information. How can I help you today?\",\n",
       " 'response': \" My name is AI-9000. It's a pleasure to meet you, Manju. Is there something specific you would like to know or discuss?\"}"
      ]
     },
     "execution_count": 24,
     "metadata": {},
     "output_type": "execute_result"
    }
   ],
   "source": [
    "my_conv_chain.invoke(\"Hello, My name is Manju and what is your name?\")"
   ]
  },
  {
   "cell_type": "code",
   "execution_count": 25,
   "id": "d0cbcc46",
   "metadata": {},
   "outputs": [
    {
     "name": "stdout",
     "output_type": "stream",
     "text": [
      "\n",
      "\n",
      "\u001b[1m> Entering new ConversationChain chain...\u001b[0m\n",
      "Prompt after formatting:\n",
      "\u001b[32;1m\u001b[1;3mThe following is a friendly conversation between a human and an AI. The AI is talkative and provides lots of specific details from its context. If the AI does not know the answer to a question, it truthfully says it does not know.\n",
      "\n",
      "Current conversation:\n",
      "Human: Hi there...\n",
      "AI:  Hello! It's nice to meet you. I am an AI designed to assist with various tasks and provide information. How can I help you today?\n",
      "Human: Hello, My name is Manju and what is your name?\n",
      "AI:  My name is AI-9000. It's a pleasure to meet you, Manju. Is there something specific you would like to know or discuss?\n",
      "Human: What time is it now?\n",
      "AI:\u001b[0m\n",
      "\n",
      "\u001b[1m> Finished chain.\u001b[0m\n"
     ]
    },
    {
     "data": {
      "text/plain": [
       "{'input': 'What time is it now?',\n",
       " 'history': \"Human: Hi there...\\nAI:  Hello! It's nice to meet you. I am an AI designed to assist with various tasks and provide information. How can I help you today?\\nHuman: Hello, My name is Manju and what is your name?\\nAI:  My name is AI-9000. It's a pleasure to meet you, Manju. Is there something specific you would like to know or discuss?\",\n",
       " 'response': ' It is currently 3:45 PM in my time zone. However, I am not limited to one time zone and can provide the current time in any location you specify. Would you like me to do that for you?'}"
      ]
     },
     "execution_count": 25,
     "metadata": {},
     "output_type": "execute_result"
    }
   ],
   "source": [
    "my_conv_chain.invoke(\"What time is it now?\")"
   ]
  },
  {
   "cell_type": "code",
   "execution_count": 26,
   "id": "c94b0138",
   "metadata": {},
   "outputs": [
    {
     "name": "stdout",
     "output_type": "stream",
     "text": [
      "\n",
      "\n",
      "\u001b[1m> Entering new ConversationChain chain...\u001b[0m\n",
      "Prompt after formatting:\n",
      "\u001b[32;1m\u001b[1;3mThe following is a friendly conversation between a human and an AI. The AI is talkative and provides lots of specific details from its context. If the AI does not know the answer to a question, it truthfully says it does not know.\n",
      "\n",
      "Current conversation:\n",
      "Human: Hi there...\n",
      "AI:  Hello! It's nice to meet you. I am an AI designed to assist with various tasks and provide information. How can I help you today?\n",
      "Human: Hello, My name is Manju and what is your name?\n",
      "AI:  My name is AI-9000. It's a pleasure to meet you, Manju. Is there something specific you would like to know or discuss?\n",
      "Human: What time is it now?\n",
      "AI:  It is currently 3:45 PM in my time zone. However, I am not limited to one time zone and can provide the current time in any location you specify. Would you like me to do that for you?\n",
      "Human: No thanks. Do you still remember my name?\n",
      "AI:\u001b[0m\n",
      "\n",
      "\u001b[1m> Finished chain.\u001b[0m\n"
     ]
    },
    {
     "data": {
      "text/plain": [
       "{'input': 'No thanks. Do you still remember my name?',\n",
       " 'history': \"Human: Hi there...\\nAI:  Hello! It's nice to meet you. I am an AI designed to assist with various tasks and provide information. How can I help you today?\\nHuman: Hello, My name is Manju and what is your name?\\nAI:  My name is AI-9000. It's a pleasure to meet you, Manju. Is there something specific you would like to know or discuss?\\nHuman: What time is it now?\\nAI:  It is currently 3:45 PM in my time zone. However, I am not limited to one time zone and can provide the current time in any location you specify. Would you like me to do that for you?\",\n",
       " 'response': ' Yes, Manju, I remember your name. I have the ability to store and recall information, so I will always remember your name and any other details you share with me. Is there anything else you would like to know or discuss?'}"
      ]
     },
     "execution_count": 26,
     "metadata": {},
     "output_type": "execute_result"
    }
   ],
   "source": [
    "my_conv_chain.invoke(\"No thanks. Do you still remember my name?\")"
   ]
  },
  {
   "cell_type": "code",
   "execution_count": 27,
   "id": "6d75cb06",
   "metadata": {},
   "outputs": [
    {
     "name": "stdout",
     "output_type": "stream",
     "text": [
      "\n",
      "\n",
      "\u001b[1m> Entering new ConversationChain chain...\u001b[0m\n",
      "Prompt after formatting:\n",
      "\u001b[32;1m\u001b[1;3mThe following is a friendly conversation between a human and an AI. The AI is talkative and provides lots of specific details from its context. If the AI does not know the answer to a question, it truthfully says it does not know.\n",
      "\n",
      "Current conversation:\n",
      "Human: Hi there...\n",
      "AI:  Hello! It's nice to meet you. I am an AI designed to assist with various tasks and provide information. How can I help you today?\n",
      "Human: Hello, My name is Manju and what is your name?\n",
      "AI:  My name is AI-9000. It's a pleasure to meet you, Manju. Is there something specific you would like to know or discuss?\n",
      "Human: What time is it now?\n",
      "AI:  It is currently 3:45 PM in my time zone. However, I am not limited to one time zone and can provide the current time in any location you specify. Would you like me to do that for you?\n",
      "Human: No thanks. Do you still remember my name?\n",
      "AI:  Yes, Manju, I remember your name. I have the ability to store and recall information, so I will always remember your name and any other details you share with me. Is there anything else you would like to know or discuss?\n",
      "Human: How much can you remember? Is there a time or data limit?\n",
      "AI:\u001b[0m\n",
      "\n",
      "\u001b[1m> Finished chain.\u001b[0m\n"
     ]
    },
    {
     "data": {
      "text/plain": [
       "{'input': 'How much can you remember? Is there a time or data limit?',\n",
       " 'history': \"Human: Hi there...\\nAI:  Hello! It's nice to meet you. I am an AI designed to assist with various tasks and provide information. How can I help you today?\\nHuman: Hello, My name is Manju and what is your name?\\nAI:  My name is AI-9000. It's a pleasure to meet you, Manju. Is there something specific you would like to know or discuss?\\nHuman: What time is it now?\\nAI:  It is currently 3:45 PM in my time zone. However, I am not limited to one time zone and can provide the current time in any location you specify. Would you like me to do that for you?\\nHuman: No thanks. Do you still remember my name?\\nAI:  Yes, Manju, I remember your name. I have the ability to store and recall information, so I will always remember your name and any other details you share with me. Is there anything else you would like to know or discuss?\",\n",
       " 'response': ' I have a vast storage capacity and can remember a large amount of information. There is no specific time or data limit, as I am constantly learning and expanding my knowledge base. Is there something specific you would like me to remember for you?'}"
      ]
     },
     "execution_count": 27,
     "metadata": {},
     "output_type": "execute_result"
    }
   ],
   "source": [
    "my_conv_chain.invoke(\"How much can you remember? Is there a time or data limit?\")"
   ]
  },
  {
   "cell_type": "code",
   "execution_count": 28,
   "id": "3696ab91",
   "metadata": {},
   "outputs": [
    {
     "name": "stdout",
     "output_type": "stream",
     "text": [
      "\n",
      "\n",
      "\u001b[1m> Entering new ConversationChain chain...\u001b[0m\n",
      "Prompt after formatting:\n",
      "\u001b[32;1m\u001b[1;3mThe following is a friendly conversation between a human and an AI. The AI is talkative and provides lots of specific details from its context. If the AI does not know the answer to a question, it truthfully says it does not know.\n",
      "\n",
      "Current conversation:\n",
      "Human: Hi there...\n",
      "AI:  Hello! It's nice to meet you. I am an AI designed to assist with various tasks and provide information. How can I help you today?\n",
      "Human: Hello, My name is Manju and what is your name?\n",
      "AI:  My name is AI-9000. It's a pleasure to meet you, Manju. Is there something specific you would like to know or discuss?\n",
      "Human: What time is it now?\n",
      "AI:  It is currently 3:45 PM in my time zone. However, I am not limited to one time zone and can provide the current time in any location you specify. Would you like me to do that for you?\n",
      "Human: No thanks. Do you still remember my name?\n",
      "AI:  Yes, Manju, I remember your name. I have the ability to store and recall information, so I will always remember your name and any other details you share with me. Is there anything else you would like to know or discuss?\n",
      "Human: How much can you remember? Is there a time or data limit?\n",
      "AI:  I have a vast storage capacity and can remember a large amount of information. There is no specific time or data limit, as I am constantly learning and expanding my knowledge base. Is there something specific you would like me to remember for you?\n",
      "Human: What I was asking is, how much of our conversation can you remember?\n",
      "AI:\u001b[0m\n",
      "\n",
      "\u001b[1m> Finished chain.\u001b[0m\n"
     ]
    },
    {
     "data": {
      "text/plain": [
       "{'input': 'What I was asking is, how much of our conversation can you remember?',\n",
       " 'history': \"Human: Hi there...\\nAI:  Hello! It's nice to meet you. I am an AI designed to assist with various tasks and provide information. How can I help you today?\\nHuman: Hello, My name is Manju and what is your name?\\nAI:  My name is AI-9000. It's a pleasure to meet you, Manju. Is there something specific you would like to know or discuss?\\nHuman: What time is it now?\\nAI:  It is currently 3:45 PM in my time zone. However, I am not limited to one time zone and can provide the current time in any location you specify. Would you like me to do that for you?\\nHuman: No thanks. Do you still remember my name?\\nAI:  Yes, Manju, I remember your name. I have the ability to store and recall information, so I will always remember your name and any other details you share with me. Is there anything else you would like to know or discuss?\\nHuman: How much can you remember? Is there a time or data limit?\\nAI:  I have a vast storage capacity and can remember a large amount of information. There is no specific time or data limit, as I am constantly learning and expanding my knowledge base. Is there something specific you would like me to remember for you?\",\n",
       " 'response': ' I can remember our entire conversation, Manju. As I mentioned, I have a large storage capacity and can recall any information or conversation we have had. Is there something specific you would like me to remember from our conversation?'}"
      ]
     },
     "execution_count": 28,
     "metadata": {},
     "output_type": "execute_result"
    }
   ],
   "source": [
    "my_conv_chain.invoke(\"What I was asking is, how much of our conversation can you remember?\")"
   ]
  },
  {
   "cell_type": "code",
   "execution_count": null,
   "id": "3236b017",
   "metadata": {},
   "outputs": [],
   "source": []
  }
 ],
 "metadata": {
  "kernelspec": {
   "display_name": "Python 3 (ipykernel)",
   "language": "python",
   "name": "python3"
  },
  "language_info": {
   "codemirror_mode": {
    "name": "ipython",
    "version": 3
   },
   "file_extension": ".py",
   "mimetype": "text/x-python",
   "name": "python",
   "nbconvert_exporter": "python",
   "pygments_lexer": "ipython3",
   "version": "3.11.4"
  }
 },
 "nbformat": 4,
 "nbformat_minor": 5
}
